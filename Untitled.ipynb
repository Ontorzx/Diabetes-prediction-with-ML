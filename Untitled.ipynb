{
 "cells": [
  {
   "cell_type": "code",
   "execution_count": 1,
   "metadata": {},
   "outputs": [
    {
     "ename": "SyntaxError",
     "evalue": "invalid syntax (<ipython-input-1-6cc491546487>, line 25)",
     "output_type": "error",
     "traceback": [
      "\u001b[1;36m  File \u001b[1;32m\"<ipython-input-1-6cc491546487>\"\u001b[1;36m, line \u001b[1;32m25\u001b[0m\n\u001b[1;33m    X_train,X_test,Y_train,Y_test=train_test_split(X,Y test_size=0.25,random_state=0)\u001b[0m\n\u001b[1;37m                                                               ^\u001b[0m\n\u001b[1;31mSyntaxError\u001b[0m\u001b[1;31m:\u001b[0m invalid syntax\n"
     ]
    }
   ],
   "source": [
    "import pandas as pd\n",
    "from sklearn.metrics import accuracy_score\n",
    "from sklearn.model_selection import train_test_split\n",
    "from sklearn.ensemble import RandomForestClassifier\n",
    "from PIL import Image\n",
    "import streamlit as st \n",
    "\n",
    "st.write(\"\"\"\n",
    "#Diabetes Detection\n",
    "Detect if someone has diabetes using machine learning and python!\n",
    "\"\"\")\n",
    "image=Image.open('C:/Users/user/Desktop/vartual assistant/download.jpg')\n",
    "st.image(image,caption='ML',use_column_width=True)\n",
    "\n",
    "df=pd.read_csv('C:/Users/user/Desktop/vartual assistant/datasets_228_482_diabetes.csv')\n",
    "\n",
    "st.subheader('Data Information:')\n",
    "st.dataframe(df)\n",
    "st.write(df.describe())\n",
    "chart=st.bar_chart(df)\n",
    "\n",
    "X=df.iloc[:, 0:8].values\n",
    "Y=df.iloc[:,-1].values\n",
    "\n",
    "X_train,X_test,Y_train,Y_test=train_test_split(X,Y test_size=0.25,random_state=0)\n",
    "\n",
    "def get_user_input():\n",
    "    Pregnancies=st.sidebar.slider('Pregnancies',0,17,3)\n",
    "    Glucose=st.sidebar.slider('Glucose',0,199,117)\n",
    "    Blood_Pressure=st.sidebar.slider('Blood_Pressure',0,122,72)\n",
    "    Skin_Thickness=st.sidebar.slider('Skin_Thickness',0,99,23)\n",
    "    Insulin=st.sidebar.slider('Insulin',0.0,846.0,30.0)\n",
    "    BMI=st.sidebar.slider('BMI',0.0,67.1,32.0)\n",
    "    Diabetes_Pedigree_Function=st.sidebar.slider('Diabetes_Pedigree_Function',0.078,2.42,0.3725)\n",
    "    Age=st.sidebar.slider('Skin_TAgehickness',21,81,29)\n",
    "\n",
    "    user_data={\n",
    "        'Pregnancies': Pregnancies,\n",
    "        'Glucose': Glucose,\n",
    "        'Blood_Pressure': Blood_Pressure,\n",
    "        'Skin_Thickness': Skin_Thickness,\n",
    "        'Insulin': Insulin,\n",
    "        'BMI': BMI,\n",
    "        'Diabetes_Pedigree_Function': Diabetes_Pedigree_Function,\n",
    "        'Age': Age,\n",
    "\n",
    "\n",
    "    }\n",
    "\n",
    "features=pd.DataFrame(user_data,index=[0])\n",
    "return features\n",
    "\n",
    "st.subheader('User Input:')\n",
    "st.write(user_input)\n",
    "\n",
    "RandomForestClassifier=RandomForestClassifier()\n",
    "RandomForestClassifier.fit(X_train,Y_train)\n",
    "\n",
    "st.subheader('Model Test Accuracy score:')\n",
    "st.write(str(accuracy_score(Y_test,RandomForestClassifier.predict(X_test))*100)+'%')\n",
    "\n",
    "prediction=RandomForestClassifier.predict(user_input)\n",
    "\n",
    "st.subheader('Classification:')\n",
    "st.write(prediction)\n"
   ]
  },
  {
   "cell_type": "code",
   "execution_count": 2,
   "metadata": {},
   "outputs": [
    {
     "ename": "ModuleNotFoundError",
     "evalue": "No module named 'streamlit'",
     "output_type": "error",
     "traceback": [
      "\u001b[1;31m---------------------------------------------------------------------------\u001b[0m",
      "\u001b[1;31mModuleNotFoundError\u001b[0m                       Traceback (most recent call last)",
      "\u001b[1;32m<ipython-input-2-ba521b7c12e2>\u001b[0m in \u001b[0;36m<module>\u001b[1;34m\u001b[0m\n\u001b[0;32m      4\u001b[0m \u001b[1;32mfrom\u001b[0m \u001b[0msklearn\u001b[0m\u001b[1;33m.\u001b[0m\u001b[0mensemble\u001b[0m \u001b[1;32mimport\u001b[0m \u001b[0mRandomForestClassifier\u001b[0m\u001b[1;33m\u001b[0m\u001b[1;33m\u001b[0m\u001b[0m\n\u001b[0;32m      5\u001b[0m \u001b[1;32mfrom\u001b[0m \u001b[0mPIL\u001b[0m \u001b[1;32mimport\u001b[0m \u001b[0mImage\u001b[0m\u001b[1;33m\u001b[0m\u001b[1;33m\u001b[0m\u001b[0m\n\u001b[1;32m----> 6\u001b[1;33m \u001b[1;32mimport\u001b[0m \u001b[0mstreamlit\u001b[0m \u001b[1;32mas\u001b[0m \u001b[0mst\u001b[0m\u001b[1;33m\u001b[0m\u001b[1;33m\u001b[0m\u001b[0m\n\u001b[0m",
      "\u001b[1;31mModuleNotFoundError\u001b[0m: No module named 'streamlit'"
     ]
    }
   ],
   "source": [
    "import pandas as pd\n",
    "from sklearn.metrics import accuracy_score\n",
    "from sklearn.model_selection import train_test_split\n",
    "from sklearn.ensemble import RandomForestClassifier\n",
    "from PIL import Image\n",
    "import streamlit as st "
   ]
  },
  {
   "cell_type": "code",
   "execution_count": 3,
   "metadata": {},
   "outputs": [
    {
     "ename": "NameError",
     "evalue": "name 'st' is not defined",
     "output_type": "error",
     "traceback": [
      "\u001b[1;31m---------------------------------------------------------------------------\u001b[0m",
      "\u001b[1;31mNameError\u001b[0m                                 Traceback (most recent call last)",
      "\u001b[1;32m<ipython-input-3-6af748176ac9>\u001b[0m in \u001b[0;36m<module>\u001b[1;34m\u001b[0m\n\u001b[1;32m----> 1\u001b[1;33m st.write(\"\"\"\n\u001b[0m\u001b[0;32m      2\u001b[0m \u001b[1;31m#Diabetes Detection\u001b[0m\u001b[1;33m\u001b[0m\u001b[1;33m\u001b[0m\u001b[1;33m\u001b[0m\u001b[0m\n\u001b[0;32m      3\u001b[0m \u001b[0mDetect\u001b[0m \u001b[1;32mif\u001b[0m \u001b[0msomeone\u001b[0m \u001b[0mhas\u001b[0m \u001b[0mdiabetes\u001b[0m \u001b[0musing\u001b[0m \u001b[0mmachine\u001b[0m \u001b[0mlearning\u001b[0m \u001b[1;32mand\u001b[0m \u001b[0mpython\u001b[0m\u001b[0;31m!\u001b[0m\u001b[1;33m\u001b[0m\u001b[1;33m\u001b[0m\u001b[0m\n\u001b[0;32m      4\u001b[0m \"\"\")\n\u001b[0;32m      5\u001b[0m \u001b[0mimage\u001b[0m\u001b[1;33m=\u001b[0m\u001b[0mImage\u001b[0m\u001b[1;33m.\u001b[0m\u001b[0mopen\u001b[0m\u001b[1;33m(\u001b[0m\u001b[1;34m'C:/Users/user/Desktop/vartual assistant/download.jpg'\u001b[0m\u001b[1;33m)\u001b[0m\u001b[1;33m\u001b[0m\u001b[1;33m\u001b[0m\u001b[0m\n",
      "\u001b[1;31mNameError\u001b[0m: name 'st' is not defined"
     ]
    }
   ],
   "source": [
    "st.write(\"\"\"\n",
    "#Diabetes Detection\n",
    "Detect if someone has diabetes using machine learning and python!\n",
    "\"\"\")\n",
    "image=Image.open('C:/Users/user/Desktop/vartual assistant/download.jpg')\n",
    "st.image(image,caption='ML',use_column_width=True)\n",
    "\n",
    "df=pd.read_csv('C:/Users/user/Desktop/vartual assistant/datasets_228_482_diabetes.csv')"
   ]
  },
  {
   "cell_type": "code",
   "execution_count": null,
   "metadata": {},
   "outputs": [],
   "source": []
  }
 ],
 "metadata": {
  "kernelspec": {
   "display_name": "Python 3",
   "language": "python",
   "name": "python3"
  },
  "language_info": {
   "codemirror_mode": {
    "name": "ipython",
    "version": 3
   },
   "file_extension": ".py",
   "mimetype": "text/x-python",
   "name": "python",
   "nbconvert_exporter": "python",
   "pygments_lexer": "ipython3",
   "version": "3.7.6"
  }
 },
 "nbformat": 4,
 "nbformat_minor": 4
}
